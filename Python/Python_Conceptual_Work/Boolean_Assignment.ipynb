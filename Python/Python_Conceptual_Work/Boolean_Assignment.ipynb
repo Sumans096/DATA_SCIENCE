{
 "cells": [
  {
   "cell_type": "code",
   "execution_count": null,
   "id": "ec65d363",
   "metadata": {},
   "outputs": [],
   "source": [
    "Q1. Declare a boolean value and store it in a variable.\n",
    "Check the type and print the id of the same.\n"
   ]
  },
  {
   "cell_type": "code",
   "execution_count": 2,
   "id": "99e1dbcf",
   "metadata": {},
   "outputs": [
    {
     "name": "stdout",
     "output_type": "stream",
     "text": [
      "False\n",
      "<class 'bool'>\n",
      "140708001339856\n"
     ]
    }
   ],
   "source": [
    "# Ans1:\n",
    "a = 300\n",
    "b = 350\n",
    "c= a>b\n",
    "print(c)\n",
    "print(type(c))\n",
    "print(id(type(c)))"
   ]
  },
  {
   "cell_type": "code",
   "execution_count": null,
   "id": "1f7b541b",
   "metadata": {},
   "outputs": [],
   "source": [
    "Q2. Take one boolean value between 0 - 256.\n",
    "Assign it to two different variables.\n",
    "Check the id of both the variables. It should come the same. Check why?\n"
   ]
  },
  {
   "cell_type": "code",
   "execution_count": 6,
   "id": "49712b5a",
   "metadata": {},
   "outputs": [
    {
     "name": "stdout",
     "output_type": "stream",
     "text": [
      "The first value is :300\n",
      "The second value is : 300\n",
      "1811172617520\n",
      "1811172617776\n",
      "True\n"
     ]
    }
   ],
   "source": [
    "# Ans2:\n",
    "a = int(input('The first value is :'))\n",
    "b = int(input('The second value is : '))\n",
    "print(id(a))\n",
    "print(id(b))\n",
    "if a == b:\n",
    "    print('True')\n",
    "else:\n",
    "    print('False')"
   ]
  },
  {
   "cell_type": "code",
   "execution_count": null,
   "id": "4ec943a1",
   "metadata": {},
   "outputs": [],
   "source": []
  },
  {
   "cell_type": "code",
   "execution_count": null,
   "id": "d0b22462",
   "metadata": {},
   "outputs": [],
   "source": [
    "Q3. Arithmetic Operations on boolean data\n",
    "Take two different boolean values.\n",
    "Store them in two different variables.\n",
    "Do below operations on them:-\n",
    " Find sum of both values\n",
    " Find difference between them\n",
    " Find the product of both.\n",
    " Find value after dividing first value with second value\n",
    " Find the remainder after dividing first value with second value\n",
    " Find the quotient after dividing first value with second value\n",
    " Find the result of first value to the power of second value.\n"
   ]
  },
  {
   "cell_type": "code",
   "execution_count": 16,
   "id": "222c7424",
   "metadata": {},
   "outputs": [
    {
     "name": "stdout",
     "output_type": "stream",
     "text": [
      "1\n",
      "1\n",
      "0\n",
      "1\n"
     ]
    }
   ],
   "source": [
    "# Ans3:\n",
    "a = True\n",
    "b = False\n",
    "\n",
    "print(int(a)+int(b))\n",
    "print(int(a)-int(b))\n",
    "print(int(a) and int(b))\n",
    "\n",
    "\n",
    "# Q: Find value after dividing first value with second value\n",
    "# try:\n",
    "#     print(int(a)/int(b))\n",
    "# except TypeError:\n",
    "#     print('Error bcz int. can never be divided by zero')\n",
    "\n",
    "# Q: Find the remainder after dividing first value with second value\n",
    "# try:\n",
    "#     print(int(a) % int(b))\n",
    "# except TryError:\n",
    "#     print(\"Error: unsupported operand\")\n",
    "\n",
    "# Q: Find the quotient after dividing first value with second value\n",
    "# try:\n",
    "#     print(int(a) // int(b))\n",
    "# except TypeError:\n",
    "#     print(\"Error: unsupported operand\")\n",
    "    \n",
    "\n",
    "# We can use ** to raise power to value\n",
    "print(int(a) ** int(b))\n",
    "\n"
   ]
  },
  {
   "cell_type": "code",
   "execution_count": null,
   "id": "8517ecaf",
   "metadata": {},
   "outputs": [],
   "source": []
  },
  {
   "cell_type": "raw",
   "id": "2d09024b",
   "metadata": {},
   "source": [
    "Q4. Comparison Operators on boolean values\n",
    "Take two different boolean values.\n",
    "Store them in two different variables.\n",
    "Do below operations on them:-\n",
    " Compare these two values with below operator:-\n",
    " Greater than, '>'\n",
    " less than, '<'\n",
    " Greater than or equal to, '>='\n",
    " Less than or equal to, '<='\n",
    "Observe their output(return type should be boolean)\n"
   ]
  },
  {
   "cell_type": "code",
   "execution_count": 22,
   "id": "b818bf6d",
   "metadata": {},
   "outputs": [
    {
     "name": "stdout",
     "output_type": "stream",
     "text": [
      "True\n",
      "False\n",
      "True\n",
      "False\n"
     ]
    }
   ],
   "source": [
    "# Ans4:\n",
    "a = True\n",
    "b = False\n",
    "\n",
    "# As True is taken as 1 and False is taken as 0 , we can perform comparision by using operators.\n",
    "if a>b:\n",
    "    print(True)\n",
    "else:\n",
    "    print(False)\n",
    "    \n",
    "if a<b:\n",
    "    print(True)\n",
    "else:\n",
    "    print(False)\n",
    "\n",
    "    \n",
    "if a >= b:\n",
    "    print(True)\n",
    "else:\n",
    "    print(False)\n",
    "    \n",
    "\n",
    "if a <= b:\n",
    "    print(True)\n",
    "else:\n",
    "    print(False)\n",
    "    \n",
    "    "
   ]
  },
  {
   "cell_type": "code",
   "execution_count": null,
   "id": "36b7be68",
   "metadata": {},
   "outputs": [],
   "source": []
  },
  {
   "cell_type": "code",
   "execution_count": null,
   "id": "44a44fdb",
   "metadata": {},
   "outputs": [],
   "source": [
    "Q5. Equality Operator\n",
    "Take two different boolean values.\n",
    "Store them in two different variables.\n",
    "Equate them using equality operators (==, !=)\n",
    "Observe the output(return type should be boolean)\n"
   ]
  },
  {
   "cell_type": "code",
   "execution_count": 24,
   "id": "a9557f64",
   "metadata": {},
   "outputs": [
    {
     "name": "stdout",
     "output_type": "stream",
     "text": [
      "False\n",
      "True\n"
     ]
    }
   ],
   "source": [
    "# Ans 5:\n",
    "\n",
    "a = True\n",
    "b = False\n",
    "\n",
    "print(a == b)\n",
    "print(a != b)"
   ]
  },
  {
   "cell_type": "code",
   "execution_count": null,
   "id": "5324adfb",
   "metadata": {},
   "outputs": [],
   "source": []
  },
  {
   "cell_type": "code",
   "execution_count": 26,
   "id": "32ccfdf8",
   "metadata": {},
   "outputs": [],
   "source": [
    "# Q6. Logical operators\n",
    "# Observe the output of below code\n",
    "# Cross check the output manually\n",
    "# print(True and True)\n",
    "#----------------------------------------->Output is True"
   ]
  },
  {
   "cell_type": "code",
   "execution_count": 27,
   "id": "1cb551c4",
   "metadata": {},
   "outputs": [
    {
     "name": "stdout",
     "output_type": "stream",
     "text": [
      "True\n"
     ]
    }
   ],
   "source": [
    "# Ans 6:\n",
    "\n",
    "print(True and True)"
   ]
  },
  {
   "cell_type": "code",
   "execution_count": 28,
   "id": "be76a6f5",
   "metadata": {},
   "outputs": [
    {
     "name": "stdout",
     "output_type": "stream",
     "text": [
      "False\n"
     ]
    }
   ],
   "source": [
    "print(False and True)"
   ]
  },
  {
   "cell_type": "code",
   "execution_count": 29,
   "id": "76ca4395",
   "metadata": {},
   "outputs": [
    {
     "name": "stdout",
     "output_type": "stream",
     "text": [
      "False\n"
     ]
    }
   ],
   "source": [
    "print(True and False)"
   ]
  },
  {
   "cell_type": "code",
   "execution_count": 30,
   "id": "3e1fc3ae",
   "metadata": {},
   "outputs": [
    {
     "name": "stdout",
     "output_type": "stream",
     "text": [
      "False\n"
     ]
    }
   ],
   "source": [
    "print(False and False)"
   ]
  },
  {
   "cell_type": "code",
   "execution_count": 31,
   "id": "d38135bc",
   "metadata": {},
   "outputs": [
    {
     "name": "stdout",
     "output_type": "stream",
     "text": [
      "True\n"
     ]
    }
   ],
   "source": [
    "print(True or True)"
   ]
  },
  {
   "cell_type": "code",
   "execution_count": 32,
   "id": "36125768",
   "metadata": {},
   "outputs": [
    {
     "name": "stdout",
     "output_type": "stream",
     "text": [
      "True\n"
     ]
    }
   ],
   "source": [
    "print(False or True)"
   ]
  },
  {
   "cell_type": "code",
   "execution_count": 33,
   "id": "3e960559",
   "metadata": {},
   "outputs": [
    {
     "name": "stdout",
     "output_type": "stream",
     "text": [
      "True\n"
     ]
    }
   ],
   "source": [
    "print(True or False)"
   ]
  },
  {
   "cell_type": "code",
   "execution_count": 34,
   "id": "60d320a0",
   "metadata": {},
   "outputs": [
    {
     "name": "stdout",
     "output_type": "stream",
     "text": [
      "False\n"
     ]
    }
   ],
   "source": [
    "print(False or False)"
   ]
  },
  {
   "cell_type": "code",
   "execution_count": 35,
   "id": "9cc6c667",
   "metadata": {},
   "outputs": [
    {
     "name": "stdout",
     "output_type": "stream",
     "text": [
      "False\n"
     ]
    }
   ],
   "source": [
    "print(not True)"
   ]
  },
  {
   "cell_type": "code",
   "execution_count": 36,
   "id": "6548a9d3",
   "metadata": {},
   "outputs": [
    {
     "name": "stdout",
     "output_type": "stream",
     "text": [
      "True\n"
     ]
    }
   ],
   "source": [
    "print(not False)"
   ]
  },
  {
   "cell_type": "code",
   "execution_count": null,
   "id": "3d9e650d",
   "metadata": {},
   "outputs": [],
   "source": []
  },
  {
   "cell_type": "code",
   "execution_count": null,
   "id": "ea71ef60",
   "metadata": {},
   "outputs": [],
   "source": [
    "Q7. Bitwise Operators\n",
    "Do below operations on the values provided below:-\n",
    " Bitwise and(&) --------------> True, True -------> Output is True\n",
    " Bitwise or(|) --------------> True, False -------> Output is True\n",
    " Bitwise(^) --------------> True, False -------> Output is True\n",
    " Bitwise negation(~) ---------> True -------> Output is -2\n",
    " Bitwise left shift ---------> True,2 -------> Output is 4\n",
    " Bitwise right shift ---------> True,2 -------> Output is 0\n",
    "Cross check the output manually\n"
   ]
  },
  {
   "cell_type": "code",
   "execution_count": 37,
   "id": "18829337",
   "metadata": {},
   "outputs": [
    {
     "name": "stdout",
     "output_type": "stream",
     "text": [
      "True\n"
     ]
    }
   ],
   "source": [
    "# Ans7:\n",
    "print(True & True)"
   ]
  },
  {
   "cell_type": "code",
   "execution_count": 38,
   "id": "0815cb49",
   "metadata": {},
   "outputs": [
    {
     "name": "stdout",
     "output_type": "stream",
     "text": [
      "True\n"
     ]
    }
   ],
   "source": [
    "print(True | False)"
   ]
  },
  {
   "cell_type": "code",
   "execution_count": 39,
   "id": "b5be551e",
   "metadata": {},
   "outputs": [
    {
     "name": "stdout",
     "output_type": "stream",
     "text": [
      "True\n"
     ]
    }
   ],
   "source": [
    "print(True ^ False)"
   ]
  },
  {
   "cell_type": "code",
   "execution_count": 41,
   "id": "8da110fe",
   "metadata": {},
   "outputs": [
    {
     "name": "stdout",
     "output_type": "stream",
     "text": [
      "-2\n"
     ]
    }
   ],
   "source": [
    "print(~ True)"
   ]
  },
  {
   "cell_type": "code",
   "execution_count": 56,
   "id": "5a32ddbd",
   "metadata": {},
   "outputs": [
    {
     "name": "stdout",
     "output_type": "stream",
     "text": [
      "4\n"
     ]
    }
   ],
   "source": [
    "# In programming, the bitwise left shift operator (<<) is used to shift the bits of a binary number to the left by a \n",
    "# specified number of positions. When used with a boolean value, it will first convert the boolean value to its binary \n",
    "# representation (True = 1, False = 0) before performing the shift.\n",
    "\n",
    "print(True << 2)"
   ]
  },
  {
   "cell_type": "code",
   "execution_count": 57,
   "id": "a5593bc8",
   "metadata": {},
   "outputs": [
    {
     "name": "stdout",
     "output_type": "stream",
     "text": [
      "0\n"
     ]
    }
   ],
   "source": [
    "print(True >> 2)"
   ]
  },
  {
   "cell_type": "code",
   "execution_count": null,
   "id": "6f3f97a3",
   "metadata": {},
   "outputs": [],
   "source": []
  },
  {
   "cell_type": "code",
   "execution_count": 64,
   "id": "1c9fc165",
   "metadata": {},
   "outputs": [
    {
     "name": "stdout",
     "output_type": "stream",
     "text": [
      "True\n"
     ]
    }
   ],
   "source": [
    "# Q8. What is the output of expression inside the print statement. Cross\n",
    "# check before running the program.\n",
    "a = True\n",
    "b = True\n",
    "print(a is b) #True or False? #"
   ]
  },
  {
   "cell_type": "code",
   "execution_count": 65,
   "id": "aa918e2f",
   "metadata": {},
   "outputs": [
    {
     "name": "stdout",
     "output_type": "stream",
     "text": [
      "True\n"
     ]
    }
   ],
   "source": [
    "if a is b:\n",
    "    print(True)\n",
    "else:\n",
    "    print(False)"
   ]
  },
  {
   "cell_type": "code",
   "execution_count": 66,
   "id": "f8925f84",
   "metadata": {},
   "outputs": [
    {
     "name": "stdout",
     "output_type": "stream",
     "text": [
      "False\n"
     ]
    }
   ],
   "source": [
    "# print(a is not b) #True or False?\n",
    "if a is not b:\n",
    "    print(True)\n",
    "else:\n",
    "    print(False)"
   ]
  },
  {
   "cell_type": "code",
   "execution_count": null,
   "id": "568ff401",
   "metadata": {},
   "outputs": [],
   "source": [
    "# Q8:\n",
    "a = False\n",
    "b = False\n",
    "print(a is b) #True or False?\n",
    "print(a is not b) #True or False?\n"
   ]
  },
  {
   "cell_type": "code",
   "execution_count": 67,
   "id": "a4f559bd",
   "metadata": {},
   "outputs": [
    {
     "name": "stdout",
     "output_type": "stream",
     "text": [
      "True\n"
     ]
    }
   ],
   "source": [
    "# Ans 8:\n",
    "if a is b:\n",
    "    print(True)\n",
    "else:\n",
    "    print(False)"
   ]
  },
  {
   "cell_type": "code",
   "execution_count": 68,
   "id": "65f0bf6c",
   "metadata": {},
   "outputs": [
    {
     "name": "stdout",
     "output_type": "stream",
     "text": [
      "False\n"
     ]
    }
   ],
   "source": [
    "if a is not b:\n",
    "    print(True)\n",
    "else:\n",
    "    print(False)"
   ]
  },
  {
   "cell_type": "code",
   "execution_count": null,
   "id": "404a2c03",
   "metadata": {},
   "outputs": [],
   "source": []
  },
  {
   "cell_type": "code",
   "execution_count": null,
   "id": "65684336",
   "metadata": {},
   "outputs": [],
   "source": [
    "Q9. Membership operation\n",
    "in, not in are two membership operators and it returns boolean value\n",
    "print(True in [10,10.20,10+20j,'Python', True])\n",
    "print(False in (10,10.20,10+20j,'Python', False))\n",
    "print(True in {1,2,3, True})\n",
    "print(True in {True:100, False:200, True:300})\n",
    "print(False in {True:100, False:200, True:300})"
   ]
  },
  {
   "cell_type": "code",
   "execution_count": 70,
   "id": "47623181",
   "metadata": {},
   "outputs": [
    {
     "name": "stdout",
     "output_type": "stream",
     "text": [
      "True\n"
     ]
    }
   ],
   "source": [
    "# Ans 9:\n",
    "# print(True in [10,10.20,10+20j,'Python', True])\n",
    "if True in [10,10.20,10+20j,'Python', True]:\n",
    "    print(True)\n",
    "else:\n",
    "    print(False)"
   ]
  },
  {
   "cell_type": "code",
   "execution_count": 71,
   "id": "3191620c",
   "metadata": {},
   "outputs": [
    {
     "name": "stdout",
     "output_type": "stream",
     "text": [
      "True\n"
     ]
    }
   ],
   "source": [
    "if False in (10,10.20,10+20j,'Python', False):\n",
    "    print(True)\n",
    "else:\n",
    "    print(False)"
   ]
  },
  {
   "cell_type": "code",
   "execution_count": 73,
   "id": "9b6c2f7f",
   "metadata": {},
   "outputs": [
    {
     "name": "stdout",
     "output_type": "stream",
     "text": [
      "True\n"
     ]
    }
   ],
   "source": [
    "if True in {1,2,3, True}:\n",
    "    print(True)\n",
    "else:\n",
    "    print(False)"
   ]
  },
  {
   "cell_type": "code",
   "execution_count": 74,
   "id": "e458f9ff",
   "metadata": {},
   "outputs": [
    {
     "name": "stdout",
     "output_type": "stream",
     "text": [
      "True\n"
     ]
    }
   ],
   "source": [
    "if True in {True:100, False:200, True:300}:\n",
    "    print(True)\n",
    "else:\n",
    "    print(False)"
   ]
  },
  {
   "cell_type": "code",
   "execution_count": 76,
   "id": "ea0b96fa",
   "metadata": {},
   "outputs": [
    {
     "name": "stdout",
     "output_type": "stream",
     "text": [
      "True\n"
     ]
    }
   ],
   "source": [
    "if False in {True:100, False:200, True:300}:\n",
    "    print(True)\n",
    "else:\n",
    "    print(False)"
   ]
  },
  {
   "cell_type": "code",
   "execution_count": null,
   "id": "8dd052d3",
   "metadata": {},
   "outputs": [],
   "source": []
  }
 ],
 "metadata": {
  "kernelspec": {
   "display_name": "Python 3 (ipykernel)",
   "language": "python",
   "name": "python3"
  },
  "language_info": {
   "codemirror_mode": {
    "name": "ipython",
    "version": 3
   },
   "file_extension": ".py",
   "mimetype": "text/x-python",
   "name": "python",
   "nbconvert_exporter": "python",
   "pygments_lexer": "ipython3",
   "version": "3.9.12"
  }
 },
 "nbformat": 4,
 "nbformat_minor": 5
}
