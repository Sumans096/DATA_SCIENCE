{
 "cells": [
  {
   "cell_type": "code",
   "execution_count": 6,
   "id": "93e521cd",
   "metadata": {},
   "outputs": [
    {
     "name": "stdout",
     "output_type": "stream",
     "text": [
      "{'email': 'sumansourabh096@gmail.com', 'phone': 8294446839, 'city': 'california'}\n",
      "{'email': 'tom_latham019@gmail.com', 'phone': 1987654321, 'city': 'california'}\n"
     ]
    }
   ],
   "source": [
    "dict = {'suman':{'email':'sumansourabh096@gmail.com', 'phone':8294446839, 'city':'california'}, 'Tom':{'email':'tom_latham019@gmail.com', 'phone':+1987654321, 'city':\n",
    "                'california'}, 'kathy':{'email':'kathy_abram897@gmail.com', 'Phone': +1887654321, 'City': 'New York'}, \n",
    "        'shekhar': {'email':'sumanshekhar17.4@gmail.com', 'phone':8239400233, 'country':'America'} }\n",
    "output = dict['suman']\n",
    "print(output)\n",
    "\n",
    "output1 = dict['Tom']\n",
    "print(output1)\n",
    "\n"
   ]
  },
  {
   "cell_type": "code",
   "execution_count": 13,
   "id": "3bfa950c",
   "metadata": {},
   "outputs": [
    {
     "name": "stdout",
     "output_type": "stream",
     "text": [
      "{'emp1': {'e_name': 'John', 'e_id': 'SG101', 'e_sal': '$10,000'}, 'emp2': {'e_name': 'Smith', 'e_id': 'SG102', 'e_sal': '$9,000'}, 'emp3': {'e_name': 'Peter', 'e_id': 'SG103', 'e_sal': '$9,500'}}\n"
     ]
    }
   ],
   "source": [
    "lst1 = ['emp1', 'emp2', 'emp3']\n",
    "emp_key = ['e_name', 'e_id', 'e_sal']\n",
    "emp1_val = ['John', 'SG101', '$10,000']\n",
    "emp2_val = ['Smith', 'SG102', '$9,000']\n",
    "emp3_val = ['Peter', 'SG103', '$9,500']\n",
    "\n",
    "# Employees = {'emp1': {'e_name': 'John', 'e_id': 'SG101', 'e_sal': '$10,000'},\n",
    "#             'emp2': {'e_name': 'Smith', 'e_id': 'SG102', 'e_sal': '$9,000'},\n",
    "#             'emp3': {'e_name': 'Peter', 'e_id': 'SG103', 'e_sal': '$9,500'}}\n",
    "\n",
    "new_dict = {lst1[0]:dict(zip(emp_key,emp1_val)), lst1[1]:dict(zip(emp_key,emp2_val)), lst1[2]:dict(zip(emp_key,emp3_val))}\n",
    "print(new_dict)"
   ]
  },
  {
   "cell_type": "code",
   "execution_count": 23,
   "id": "4d754e98",
   "metadata": {},
   "outputs": [
    {
     "name": "stdout",
     "output_type": "stream",
     "text": [
      "80\n"
     ]
    }
   ],
   "source": [
    "\n",
    "sampleDict = { \n",
    "   \"class\":{ \n",
    "      \"student\":{ \n",
    "         \"name\":\"Mike\",\n",
    "         \"marks\":{ \n",
    "            \"physics\":70,\n",
    "            \"history\":80\n",
    "         }\n",
    "      }\n",
    "   }\n",
    "}\n",
    "\n",
    "val = sampleDict[\"class\"][\"student\"]['marks']['history']\n",
    "print(val)"
   ]
  },
  {
   "cell_type": "code",
   "execution_count": 26,
   "id": "457236f6",
   "metadata": {},
   "outputs": [
    {
     "name": "stdout",
     "output_type": "stream",
     "text": [
      "{'Kelly': {'designation': 'Application Developer', 'salary': 8000}, 'Emma': {'designation': 'Application Developer', 'salary': 8000}, 'John': {'designation': 'Application Developer', 'salary': 8000}}\n"
     ]
    }
   ],
   "source": [
    "# Initialize dictionary with default values. Inputs are:-\n",
    "employees = ['Kelly', 'Emma', 'John']\n",
    "defaults = {\"designation\": 'Application Developer', \"salary\": 8000}\n",
    "\n",
    "output = {employees[0]:dict(defaults), employees[1]:dict(defaults), employees[2]:dict(defaults)}\n",
    "print(output)"
   ]
  },
  {
   "cell_type": "code",
   "execution_count": 60,
   "id": "9ef0050f",
   "metadata": {},
   "outputs": [
    {
     "name": "stdout",
     "output_type": "stream",
     "text": [
      "RNA transcript of ATGC: UACG\n"
     ]
    }
   ],
   "source": [
    "# In gene expression, mRNA is transcribed from a DNA template. \n",
    "# The 4 nucleotide bases of A, T, C, G corresponds to the U, A, G, C bases of the mRNA. \n",
    "# Write a function that returns the mRNA transcript given the sequence of a DNA strand.\n",
    "\n",
    "# Use a dictionary to provide the mapping of DNA to RNA bases.\n",
    "\n",
    "\n",
    "\n",
    "dna = \"ATGC\"\n",
    "rna = transcript_dna_to_rna(dna)\n",
    "print(f\"RNA transcript of {dna}: {rna}\")\n",
    "\n",
    "# NOTES : The goal of 'transcription' is to make a RNA copy of a gene's DNA sequence.\n"
   ]
  },
  {
   "cell_type": "code",
   "execution_count": 85,
   "id": "e4a280a7",
   "metadata": {},
   "outputs": [
    {
     "name": "stdout",
     "output_type": "stream",
     "text": [
      "{'g': 2, 'o': 3, 'l': 1, 'e': 1, '.': 1, 'c': 1, 'm': 1}\n"
     ]
    }
   ],
   "source": [
    "# Write a function which takes a word as input and returns a dictionary with letters as key and no of time letters are repeated as value.\n",
    "# In - count_letter('google.com')\n",
    "# Out - {'g': 2, 'o': 3, 'l': 1, 'e': 1, '.': 1, 'c': 1, 'm': 1}\n",
    "\n",
    "\n",
    "def count_letter(word):\n",
    "  result = {}\n",
    "  for letter in word:\n",
    "    if letter in result:\n",
    "      result[letter] += 1\n",
    "    else:\n",
    "      result[letter] = 1\n",
    "  return result\n",
    "\n",
    "print(count_letter('google.com'))"
   ]
  },
  {
   "cell_type": "code",
   "execution_count": 54,
   "id": "5d7289a1",
   "metadata": {},
   "outputs": [
    {
     "name": "stdout",
     "output_type": "stream",
     "text": [
      "{'A': 4, 'C': 8, 'T': 5, 'G': 3}\n",
      "{'A': 1, 'C': 0, 'G': 1, 'T': 1}\n"
     ]
    }
   ],
   "source": [
    "# A DNA strand consisting of the 4 nucleotide bases is usually represented with a string of letters: A,T, C, G. \n",
    "# Write a function that computes the base composition of a given DNA sequence.\n",
    "\n",
    "# In - baseComposition(\"CTATCGGCACCCTTTCAGCA\")\n",
    "# Out - {'A': 4, 'C': 8, 'T': 5,  'G': 3 }\n",
    "    \n",
    "# In - baseComposition(\"AGT\")\n",
    "# Out - {'A': 1, 'C': 0, 'T': 1,  'G': 1 }\n",
    "\n",
    "\n",
    "\n",
    "def basecomposition(DNA):\n",
    "    return{'A':DNA.count('A'), 'C':DNA.count('C'), 'T':DNA.count('T'), 'G':DNA.count('G')}\n",
    "print(basecomposition(\"CTATCGGCACCCTTTCAGCA\"))\n",
    "\n",
    "\n",
    "def basecomposition(dna):\n",
    "    str1 = dna.count('A')\n",
    "    str2 = dna.count('C')\n",
    "    str3 = dna.count('G')\n",
    "    str4 = dna.count('T')\n",
    "    \n",
    "    return{'A':str1, 'C':str2, 'G':str3, 'T':str4}\n",
    "print(basecomposition(\"AGT\"))"
   ]
  },
  {
   "cell_type": "code",
   "execution_count": 76,
   "id": "1faf555f",
   "metadata": {},
   "outputs": [
    {
     "name": "stdout",
     "output_type": "stream",
     "text": [
      "{'Name': 'Tom'}\n",
      "{'Name': 'Tom'}\n",
      "{'Name': 'Tom'}\n"
     ]
    }
   ],
   "source": [
    "# [MCQ] Suppose \"d\" is an empty dictionary, which statement does not assign \"d\" with {\"Name\":\"Tom\"}? \n",
    "# 1. d = {\"Name\": \"Tom\" }\n",
    "# 2. d[\"Name\"] = \"Tom\"\n",
    "# 3. d.update({\"Name\": \"Tom\" })\n",
    "# 4. d.setdefault(\"Name\", \"Tom\")\n",
    "# 5. None of the above.\n",
    "\n",
    "#2- \n",
    "d = {}\n",
    "d[\"Name\"] = \"Tom\"\n",
    "print(d)\n",
    "\n",
    "#3- \n",
    "d.update({\"Name\": \"Tom\"})\n",
    "print(d)\n",
    "\n",
    "#4- \n",
    "d.setdefault(\"Name\",\"Tom\")\n",
    "print(d)\n",
    "\n",
    "\n"
   ]
  },
  {
   "cell_type": "code",
   "execution_count": null,
   "id": "e5a85dff",
   "metadata": {},
   "outputs": [],
   "source": [
    "# [MCQ] d = {\"a\":1, \"b\":2}. Which of the statements returns [1,2]? \n",
    "# 1. d.keys()\n",
    "# 2. d.values()\n",
    "# 3. d.items()\n",
    "# 4. d.popitem()\n",
    "# 5. None of the above.\n",
    "\n",
    "# Answer - 2. i.e d.values()\n"
   ]
  },
  {
   "cell_type": "code",
   "execution_count": 77,
   "id": "bb743654",
   "metadata": {},
   "outputs": [
    {
     "name": "stdout",
     "output_type": "stream",
     "text": [
      "{(1, 2, 3): 4.5}\n"
     ]
    }
   ],
   "source": [
    "# [MCQ] Which of the following declarations is not valid for 'dict' type?\n",
    "# 1. d = {\"Name\": \"Tom\" }\n",
    "# 2. d = { (1,3,4): 4.5 }\n",
    "# 3. d = { [\"First\", \"Last\"]: (1,3) }\n",
    "# 4. d = { 1: 0.4 }\n",
    "# 5. None of the above\n",
    "\n",
    "# Answer is opt. 3 is not valid for dict. type."
   ]
  },
  {
   "cell_type": "code",
   "execution_count": 89,
   "id": "0cc3bf35",
   "metadata": {},
   "outputs": [
    {
     "name": "stdout",
     "output_type": "stream",
     "text": [
      "['a']\n",
      "['b', 'c']\n",
      "[]\n"
     ]
    }
   ],
   "source": [
    "# Write a function reverseLookup(dictionary, value) that takes in a dictionary \n",
    "# and a value as arguments and returns a sorted list of all keys that contains the value. \n",
    "# The function will return an empty list if no match is found.\n",
    "\n",
    "# In - reverseLookup({'a':1, 'b':2, 'c':2}, 1)\n",
    "# Out - ['a']\n",
    "# In - reverseLookup({'a':1, 'b':2, 'c':2}, 2)\n",
    "# Out - ['b', 'c']\n",
    "# In - reverseLookup({'a':1, 'b':2, 'c':2}, 3)\n",
    "# Out - []\n",
    "\n",
    "def reverselookup(dictionary, value):\n",
    "    return sorted([key for key in dictionary.keys() if dictionary[key] == value])\n",
    "print(reverselookup({'a':1, 'b':2, 'c':2}, 1))\n",
    "print(reverselookup({'a':1, 'b':2, 'c':2}, 2))\n",
    "print(reverselookup({'a':1, 'b':2, 'c':2}, 3))"
   ]
  },
  {
   "cell_type": "code",
   "execution_count": 118,
   "id": "8d803dbc",
   "metadata": {},
   "outputs": [
    {
     "ename": "SyntaxError",
     "evalue": "invalid syntax (113261607.py, line 10)",
     "output_type": "error",
     "traceback": [
      "\u001b[1;36m  Input \u001b[1;32mIn [118]\u001b[1;36m\u001b[0m\n\u001b[1;33m    return dict(zip(dictionary.values(), sorted(dictionary.keys()) if dictionary[keys] == values))\u001b[0m\n\u001b[1;37m                                                                                                ^\u001b[0m\n\u001b[1;31mSyntaxError\u001b[0m\u001b[1;31m:\u001b[0m invalid syntax\n"
     ]
    }
   ],
   "source": [
    "# Write a function invertDictionary(d) that takes in a dictionary as argument and return a dictionary that inverts the keys and the values of the original dictionary.\n",
    "# In - invertDictionary({'a':1, 'b':2, 'c':3, 'd':2})\n",
    "# Out - {1: ['a'], 2: ['b', 'd'], 3: ['c']}\n",
    "# In - invertDictionary({'a':3, 'b':3, 'c':3})\n",
    "# Out - {3: ['a', 'c', 'b']}\n",
    "# In - invertDictionary({'a':2, 'b':1, 'c':2, 'd':1})\n",
    "# Out - {1: ['b', 'd'], 2: ['a', 'c']}\n",
    "\n",
    "def invertdictionary(dictionary):\n",
    "    return dict(zip(dictionary.values(), sorted(dictionary.keys()) if dictionary[keys] == values))\n",
    "print(invertdictionary({'a':1, 'b':2, 'c':3, 'd':2}))"
   ]
  },
  {
   "cell_type": "code",
   "execution_count": null,
   "id": "1edcbc3e",
   "metadata": {},
   "outputs": [],
   "source": []
  },
  {
   "cell_type": "code",
   "execution_count": null,
   "id": "e1dbd02d",
   "metadata": {},
   "outputs": [],
   "source": []
  }
 ],
 "metadata": {
  "kernelspec": {
   "display_name": "Python 3 (ipykernel)",
   "language": "python",
   "name": "python3"
  },
  "language_info": {
   "codemirror_mode": {
    "name": "ipython",
    "version": 3
   },
   "file_extension": ".py",
   "mimetype": "text/x-python",
   "name": "python",
   "nbconvert_exporter": "python",
   "pygments_lexer": "ipython3",
   "version": "3.9.12"
  }
 },
 "nbformat": 4,
 "nbformat_minor": 5
}
